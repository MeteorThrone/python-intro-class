{
  "nbformat": 4,
  "nbformat_minor": 0,
  "metadata": {
    "colab": {
      "provenance": [],
      "toc_visible": true
    },
    "kernelspec": {
      "name": "python3",
      "display_name": "Python 3"
    },
    "language_info": {
      "name": "python"
    }
  },
  "cells": [
    {
      "cell_type": "code",
      "source": [
        "numCase = int(input(\"Enter the number of cases:\"))\n",
        "pop = int(input(\"Enter the total population:\"))\n",
        "timeFrame = int(input(\"Enter the timeframe:\"))\n",
        "numCaseTF = int(input(\"Enter the number of cases during the timeframe:\"))\n",
        "casualty = int(input(\"Enter the number of casualties:\"))\n",
        "det = bool(input(\"Enter True/False if you need to calculate years of potential life lost:\"))\n",
        "AgeTotal = 0\n",
        "if(det==True):\n",
        "  numCasualty = int(input(\"How many casualties do you have the ages of?\"))\n",
        "  while(numCasualty>0):\n",
        "      ageCasualty = int(input(\"Enter the age of the casualty\"))\n",
        "      AgeTotal = AgeTotal + ageCasualty\n",
        "      numCasualty = numCasualty - 1\n",
        "averageAge = int(input(\"Enter the average age here:\"))\n",
        "\n",
        "prev = (numCase/pop) * 100000\n",
        "print(\"Prevalence is %.3f\" % prev,\"per 100 thousand people.\")\n",
        "incidence = numCaseTF/timeFrame\n",
        "print(\"Incidence is: %.3f\" % incidence,\"new cases per day .\")\n",
        "mort = (casualty/pop) * 100000\n",
        "print(\"Mortality is: %.2f\" % mort,\"per 100 thousand people.\")\n",
        "ypll = ((averageAge*casualty)-(AgeTotal))/casualty\n",
        "print(\"Years of Potential Life Lost would be :\", ypll)"
      ],
      "metadata": {
        "id": "CFcWQphUXgV4",
        "colab": {
          "base_uri": "https://localhost:8080/"
        },
        "outputId": "33ab7975-e811-4adc-911f-5835a36f6a40"
      },
      "execution_count": 12,
      "outputs": [
        {
          "output_type": "stream",
          "name": "stdout",
          "text": [
            "Enter the number of cases:15000\n",
            "Enter the total population:1780000\n",
            "Enter the timeframe:92\n",
            "Enter the number of cases during the timeframe:3000\n",
            "Enter the number of casualties:5\n",
            "Enter True/False if you need to calculate years of potential life lost:sf\n",
            "How many casualties do you have the ages of?5\n",
            "Enter the age of the casualty32\n",
            "Enter the age of the casualty45\n",
            "Enter the age of the casualty28\n",
            "Enter the age of the casualty37\n",
            "Enter the age of the casualty52\n",
            "Enter the average age here:77\n",
            "Prevalence is 842.697 per 100 thousand people.\n",
            "Incidence is: 32.609 new cases per day .\n",
            "Mortality is: 0.28 per 100 thousand people.\n",
            "Years of Potential Life Lost would be : 191\n"
          ]
        }
      ]
    }
  ]
}